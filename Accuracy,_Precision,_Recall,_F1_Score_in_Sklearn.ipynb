{
  "nbformat": 4,
  "nbformat_minor": 0,
  "metadata": {
    "colab": {
      "name": "Accuracy, Precision, Recall, F1 Score in Sklearn.ipynb",
      "provenance": [],
      "collapsed_sections": [],
      "authorship_tag": "ABX9TyOtR5FhkWvxVDIrMClomjQK",
      "include_colab_link": true
    },
    "kernelspec": {
      "name": "python3",
      "display_name": "Python 3"
    }
  },
  "cells": [
    {
      "cell_type": "markdown",
      "metadata": {
        "id": "view-in-github",
        "colab_type": "text"
      },
      "source": [
        "<a href=\"https://colab.research.google.com/github/Ammulator/Accuracy-Precision-Recall-and-F1-Score-using-SK-learn/blob/main/Accuracy%2C_Precision%2C_Recall%2C_F1_Score_in_Sklearn.ipynb\" target=\"_parent\"><img src=\"https://colab.research.google.com/assets/colab-badge.svg\" alt=\"Open In Colab\"/></a>"
      ]
    },
    {
      "cell_type": "code",
      "metadata": {
        "colab": {
          "base_uri": "https://localhost:8080/"
        },
        "id": "Piq7P6ZN3aRg",
        "outputId": "4ff9381f-03e4-4da7-f70e-3cb49153d48f"
      },
      "source": [
        "#Here we use the logistic regression to find the Accuracy, Precision, Recall and F1 Score\r\n",
        "#Now i am using the breast cancer Logistic Regression.\r\n",
        "import pandas as pd\r\n",
        "from sklearn.datasets import load_breast_cancer\r\n",
        "cancer=load_breast_cancer()\r\n",
        "df=pd.DataFrame(cancer['data'],columns=cancer['feature_names'])\r\n",
        "df['target']=cancer['target']\r\n",
        "X=df[cancer['feature_names']].values\r\n",
        "y=df['target'].values\r\n",
        "from sklearn.linear_model import LogisticRegression\r\n",
        "model=LogisticRegression()\r\n",
        "model.fit(X,y)\r\n",
        "y_pred=model.predict(X)"
      ],
      "execution_count": 1,
      "outputs": [
        {
          "output_type": "stream",
          "text": [
            "/usr/local/lib/python3.6/dist-packages/sklearn/linear_model/_logistic.py:940: ConvergenceWarning: lbfgs failed to converge (status=1):\n",
            "STOP: TOTAL NO. of ITERATIONS REACHED LIMIT.\n",
            "\n",
            "Increase the number of iterations (max_iter) or scale the data as shown in:\n",
            "    https://scikit-learn.org/stable/modules/preprocessing.html\n",
            "Please also refer to the documentation for alternative solver options:\n",
            "    https://scikit-learn.org/stable/modules/linear_model.html#logistic-regression\n",
            "  extra_warning_msg=_LOGISTIC_SOLVER_CONVERGENCE_MSG)\n"
          ],
          "name": "stderr"
        }
      ]
    },
    {
      "cell_type": "code",
      "metadata": {
        "colab": {
          "base_uri": "https://localhost:8080/"
        },
        "id": "mO1Of0bfDbDZ",
        "outputId": "ac35b356-c4a9-4f4a-ea1a-f075ffe0e17e"
      },
      "source": [
        "#Now we calculate the Accuracy, Precision, Recall, and F1 Score\r\n",
        "from sklearn.metrics import accuracy_score,precision_score,recall_score,f1_score\r\n",
        "#Each function of above uses two 1D array, So we use y and y_pred\r\n",
        "print(\"Accuracy: \",accuracy_score(y,y_pred))\r\n",
        "print(\"Precision: \",precision_score(y,y_pred))\r\n",
        "print(\"Recall: \",recall_score(y,y_pred))\r\n",
        "print(\"F1 Score: \",f1_score(y,y_pred))"
      ],
      "execution_count": 2,
      "outputs": [
        {
          "output_type": "stream",
          "text": [
            "Accuracy:  0.9472759226713533\n",
            "Precision:  0.947945205479452\n",
            "Recall:  0.969187675070028\n",
            "F1 Score:  0.9584487534626039\n"
          ],
          "name": "stdout"
        }
      ]
    }
  ]
}